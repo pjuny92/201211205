{
 "cells": [
  {
   "cell_type": "markdown",
   "metadata": {},
   "source": [
    "## REST"
   ]
  },
  {
   "cell_type": "markdown",
   "metadata": {},
   "source": [
    "#### 요청인자 맞추기\n",
    "##### 서울데이터에서 open api를 들어가 요청인자 부분을 보고 KEY~LINE_NUM 까지 맞춘다"
   ]
  },
  {
   "cell_type": "code",
   "execution_count": 2,
   "metadata": {
    "collapsed": false
   },
   "outputs": [],
   "source": [
    "import os\n",
    "KEY = \"666568534139327035364559544c4c\"\n",
    "TYPE = 'json'\n",
    "SERVICE = 'SearchSTNBySubwayLineService'\n",
    "START_INDEX = '1'\n",
    "END_INDEX = '10'\n",
    "LINE_NUM = '2'\n",
    "#params = os.path.join(KEY,TYPE,SERVICE,START_INDEX,END_INDEX,LINE_NUM)"
   ]
  },
  {
   "cell_type": "code",
   "execution_count": 16,
   "metadata": {
    "collapsed": true
   },
   "outputs": [],
   "source": [
    "url = 'http://openapi.seoul.go.kr:8088/'\n",
    "url += KEY\n",
    "url += '/'\n",
    "url += TYPE\n",
    "url += '/'\n",
    "url += SERVICE\n",
    "url += '/'\n",
    "url += START_INDEX\n",
    "url += '/'\n",
    "url += END_INDEX\n",
    "url += '/'\n",
    "url += LINE_NUM"
   ]
  },
  {
   "cell_type": "code",
   "execution_count": 17,
   "metadata": {
    "collapsed": false
   },
   "outputs": [
    {
     "name": "stdout",
     "output_type": "stream",
     "text": [
      "http://openapi.seoul.go.kr:8088/666568534139327035364559544c4c/json/SearchSTNBySubwayLineService/1/10/2\n"
     ]
    }
   ],
   "source": [
    "print url"
   ]
  },
  {
   "cell_type": "code",
   "execution_count": 20,
   "metadata": {
    "collapsed": true
   },
   "outputs": [],
   "source": [
    "import requests\n",
    "data = requests.get(url)"
   ]
  },
  {
   "cell_type": "code",
   "execution_count": 21,
   "metadata": {
    "collapsed": false
   },
   "outputs": [
    {
     "name": "stdout",
     "output_type": "stream",
     "text": [
      "{\"SearchSTNBySubwayLineService\":{\"list_total_count\":51,\"RESULT\":{\"CODE\":\"INFO-000\",\"MESSAGE\":\"정상 처리되었습니다\"},\"row\":[{\"STATION_CD\":\"0201\",\"STATION_NM\":\"시청\",\"LINE_NUM\":\"2\",\"FR_CODE\":\"201\"},{\"STATION_CD\":\"0202\",\"STATION_NM\":\"을지로입구\",\"LINE_NUM\":\"2\",\"FR_CODE\":\"202\"},{\"STATION_CD\":\"0203\",\"STATION_NM\":\"을지로3가\",\"LINE_NUM\":\"2\",\"FR_CODE\":\"203\"},{\"STATION_CD\":\"0204\",\"STATION_NM\":\"을지로4가\",\"LINE_NUM\":\"2\",\"FR_CODE\":\"204\"},{\"STATION_CD\":\"0205\",\"STATION_NM\":\"동대문역사문화공원\",\"LINE_NUM\":\"2\",\"FR_CODE\":\"205\"},{\"STATION_CD\":\"0206\",\"STATION_NM\":\"신당\",\"LINE_NUM\":\"2\",\"FR_CODE\":\"206\"},{\"STATION_CD\":\"0207\",\"STATION_NM\":\"상왕십리\",\"LINE_NUM\":\"2\",\"FR_CODE\":\"207\"},{\"STATION_CD\":\"0208\",\"STATION_NM\":\"왕십리\",\"LINE_NUM\":\"2\",\"FR_CODE\":\"208\"},{\"STATION_CD\":\"0209\",\"STATION_NM\":\"한양대\",\"LINE_NUM\":\"2\",\"FR_CODE\":\"209\"},{\"STATION_CD\":\"0210\",\"STATION_NM\":\"뚝섬\",\"LINE_NUM\":\"2\",\"FR_CODE\":\"210\"}]}}\n"
     ]
    }
   ],
   "source": [
    "print data.text"
   ]
  },
  {
   "cell_type": "code",
   "execution_count": 3,
   "metadata": {
    "collapsed": false
   },
   "outputs": [
    {
     "name": "stdout",
     "output_type": "stream",
     "text": [
      "666568534139327035364559544c4c\\json\\SearchSTNBySubwayLineService\\1\\10\\2\n"
     ]
    }
   ],
   "source": [
    "print params"
   ]
  },
  {
   "cell_type": "code",
   "execution_count": 6,
   "metadata": {
    "collapsed": false
   },
   "outputs": [
    {
     "name": "stdout",
     "output_type": "stream",
     "text": [
      "http://openapi.seoul.go.kr:8088/666568534139327035364559544c4c\\json\\SearchSTNBySubwayLineService\\1\\10\\2\n"
     ]
    }
   ],
   "source": [
    "import urlparse\n",
    "_url = 'http://openapi.seoul.go.kr:8088/'\n",
    "url = urlparse.urljoin(_url,params)\n",
    "print url"
   ]
  },
  {
   "cell_type": "code",
   "execution_count": 13,
   "metadata": {
    "collapsed": true
   },
   "outputs": [],
   "source": [
    "myurl = 'http://openapi.seoul.go.kr:8088/666568534139327035364559544c4c/xml/SearchSTNBySubwayLineService/1/30/1/'"
   ]
  },
  {
   "cell_type": "code",
   "execution_count": 14,
   "metadata": {
    "collapsed": false
   },
   "outputs": [],
   "source": [
    "import requests\n",
    "data = requests.get(myurl)"
   ]
  },
  {
   "cell_type": "code",
   "execution_count": 15,
   "metadata": {
    "collapsed": false
   },
   "outputs": [
    {
     "name": "stdout",
     "output_type": "stream",
     "text": [
      "<?xml version=\"1.0\" encoding=\"UTF-8\"?><SearchSTNBySubwayLineService>\n",
      "<list_total_count>101</list_total_count>\n",
      "<RESULT>\n",
      "<CODE>INFO-000</CODE>\n",
      "<MESSAGE>정상 처리되었습니다</MESSAGE>\n",
      "</RESULT>\n",
      "<row>\n",
      "<STATION_CD>1916</STATION_CD>\n",
      "<STATION_NM>소요산</STATION_NM>\n",
      "<LINE_NUM>1</LINE_NUM>\n",
      "<FR_CODE>100</FR_CODE>\n",
      "</row>\n",
      "<row>\n",
      "<STATION_CD>1915</STATION_CD>\n",
      "<STATION_NM>동두천</STATION_NM>\n",
      "<LINE_NUM>1</LINE_NUM>\n",
      "<FR_CODE>101</FR_CODE>\n",
      "</row>\n",
      "<row>\n",
      "<STATION_CD>1914</STATION_CD>\n",
      "<STATION_NM>보산</STATION_NM>\n",
      "<LINE_NUM>1</LINE_NUM>\n",
      "<FR_CODE>102</FR_CODE>\n",
      "</row>\n",
      "<row>\n",
      "<STATION_CD>1913</STATION_CD>\n",
      "<STATION_NM>동두천중앙</STATION_NM>\n",
      "<LINE_NUM>1</LINE_NUM>\n",
      "<FR_CODE>103</FR_CODE>\n",
      "</row>\n",
      "<row>\n",
      "<STATION_CD>1912</STATION_CD>\n",
      "<STATION_NM>지행</STATION_NM>\n",
      "<LINE_NUM>1</LINE_NUM>\n",
      "<FR_CODE>104</FR_CODE>\n",
      "</row>\n",
      "<row>\n",
      "<STATION_CD>1911</STATION_CD>\n",
      "<STATION_NM>덕정</STATION_NM>\n",
      "<LINE_NUM>1</LINE_NUM>\n",
      "<FR_CODE>105</FR_CODE>\n",
      "</row>\n",
      "<row>\n",
      "<STATION_CD>1910</STATION_CD>\n",
      "<STATION_NM>덕계</STATION_NM>\n",
      "<LINE_NUM>1</LINE_NUM>\n",
      "<FR_CODE>106</FR_CODE>\n",
      "</row>\n",
      "<row>\n",
      "<STATION_CD>1909</STATION_CD>\n",
      "<STATION_NM>양주</STATION_NM>\n",
      "<LINE_NUM>1</LINE_NUM>\n",
      "<FR_CODE>107</FR_CODE>\n",
      "</row>\n",
      "<row>\n",
      "<STATION_CD>1908</STATION_CD>\n",
      "<STATION_NM>녹양</STATION_NM>\n",
      "<LINE_NUM>1</LINE_NUM>\n",
      "<FR_CODE>108</FR_CODE>\n",
      "</row>\n",
      "<row>\n",
      "<STATION_CD>1907</STATION_CD>\n",
      "<STATION_NM>가능</STATION_NM>\n",
      "<LINE_NUM>1</LINE_NUM>\n",
      "<FR_CODE>109</FR_CODE>\n",
      "</row>\n",
      "<row>\n",
      "<STATION_CD>1906</STATION_CD>\n",
      "<STATION_NM>의정부</STATION_NM>\n",
      "<LINE_NUM>1</LINE_NUM>\n",
      "<FR_CODE>110</FR_CODE>\n",
      "</row>\n",
      "<row>\n",
      "<STATION_CD>1905</STATION_CD>\n",
      "<STATION_NM>회룡</STATION_NM>\n",
      "<LINE_NUM>1</LINE_NUM>\n",
      "<FR_CODE>111</FR_CODE>\n",
      "</row>\n",
      "<row>\n",
      "<STATION_CD>1904</STATION_CD>\n",
      "<STATION_NM>망월사</STATION_NM>\n",
      "<LINE_NUM>1</LINE_NUM>\n",
      "<FR_CODE>112</FR_CODE>\n",
      "</row>\n",
      "<row>\n",
      "<STATION_CD>1903</STATION_CD>\n",
      "<STATION_NM>도봉산</STATION_NM>\n",
      "<LINE_NUM>1</LINE_NUM>\n",
      "<FR_CODE>113</FR_CODE>\n",
      "</row>\n",
      "<row>\n",
      "<STATION_CD>1902</STATION_CD>\n",
      "<STATION_NM>도봉</STATION_NM>\n",
      "<LINE_NUM>1</LINE_NUM>\n",
      "<FR_CODE>114</FR_CODE>\n",
      "</row>\n",
      "<row>\n",
      "<STATION_CD>1901</STATION_CD>\n",
      "<STATION_NM>방학</STATION_NM>\n",
      "<LINE_NUM>1</LINE_NUM>\n",
      "<FR_CODE>115</FR_CODE>\n",
      "</row>\n",
      "<row>\n",
      "<STATION_CD>1022</STATION_CD>\n",
      "<STATION_NM>창동</STATION_NM>\n",
      "<LINE_NUM>1</LINE_NUM>\n",
      "<FR_CODE>116</FR_CODE>\n",
      "</row>\n",
      "<row>\n",
      "<STATION_CD>1021</STATION_CD>\n",
      "<STATION_NM>녹천</STATION_NM>\n",
      "<LINE_NUM>1</LINE_NUM>\n",
      "<FR_CODE>117</FR_CODE>\n",
      "</row>\n",
      "<row>\n",
      "<STATION_CD>1020</STATION_CD>\n",
      "<STATION_NM>월계</STATION_NM>\n",
      "<LINE_NUM>1</LINE_NUM>\n",
      "<FR_CODE>118</FR_CODE>\n",
      "</row>\n",
      "<row>\n",
      "<STATION_CD>1019</STATION_CD>\n",
      "<STATION_NM>광운대</STATION_NM>\n",
      "<LINE_NUM>1</LINE_NUM>\n",
      "<FR_CODE>119</FR_CODE>\n",
      "</row>\n",
      "<row>\n",
      "<STATION_CD>1018</STATION_CD>\n",
      "<STATION_NM>석계</STATION_NM>\n",
      "<LINE_NUM>1</LINE_NUM>\n",
      "<FR_CODE>120</FR_CODE>\n",
      "</row>\n",
      "<row>\n",
      "<STATION_CD>1017</STATION_CD>\n",
      "<STATION_NM>신이문</STATION_NM>\n",
      "<LINE_NUM>1</LINE_NUM>\n",
      "<FR_CODE>121</FR_CODE>\n",
      "</row>\n",
      "<row>\n",
      "<STATION_CD>1016</STATION_CD>\n",
      "<STATION_NM>외대앞</STATION_NM>\n",
      "<LINE_NUM>1</LINE_NUM>\n",
      "<FR_CODE>122</FR_CODE>\n",
      "</row>\n",
      "<row>\n",
      "<STATION_CD>1015</STATION_CD>\n",
      "<STATION_NM>회기</STATION_NM>\n",
      "<LINE_NUM>1</LINE_NUM>\n",
      "<FR_CODE>123</FR_CODE>\n",
      "</row>\n",
      "<row>\n",
      "<STATION_CD>0158</STATION_CD>\n",
      "<STATION_NM>청량리</STATION_NM>\n",
      "<LINE_NUM>1</LINE_NUM>\n",
      "<FR_CODE>124</FR_CODE>\n",
      "</row>\n",
      "<row>\n",
      "<STATION_CD>0157</STATION_CD>\n",
      "<STATION_NM>제기동</STATION_NM>\n",
      "<LINE_NUM>1</LINE_NUM>\n",
      "<FR_CODE>125</FR_CODE>\n",
      "</row>\n",
      "<row>\n",
      "<STATION_CD>0156</STATION_CD>\n",
      "<STATION_NM>신설동</STATION_NM>\n",
      "<LINE_NUM>1</LINE_NUM>\n",
      "<FR_CODE>126</FR_CODE>\n",
      "</row>\n",
      "<row>\n",
      "<STATION_CD>0159</STATION_CD>\n",
      "<STATION_NM>동묘앞</STATION_NM>\n",
      "<LINE_NUM>1</LINE_NUM>\n",
      "<FR_CODE>127</FR_CODE>\n",
      "</row>\n",
      "<row>\n",
      "<STATION_CD>0155</STATION_CD>\n",
      "<STATION_NM>동대문</STATION_NM>\n",
      "<LINE_NUM>1</LINE_NUM>\n",
      "<FR_CODE>128</FR_CODE>\n",
      "</row>\n",
      "<row>\n",
      "<STATION_CD>0154</STATION_CD>\n",
      "<STATION_NM>종로5가</STATION_NM>\n",
      "<LINE_NUM>1</LINE_NUM>\n",
      "<FR_CODE>129</FR_CODE>\n",
      "</row>\n",
      "</SearchSTNBySubwayLineService>\n",
      "\n"
     ]
    }
   ],
   "source": [
    "print data.text"
   ]
  },
  {
   "cell_type": "markdown",
   "metadata": {},
   "source": [
    "#### status code"
   ]
  },
  {
   "cell_type": "code",
   "execution_count": 28,
   "metadata": {
    "collapsed": false,
    "scrolled": true
   },
   "outputs": [],
   "source": [
    "r = requests.get(\"http://httpbin.org/get\")"
   ]
  },
  {
   "cell_type": "code",
   "execution_count": 29,
   "metadata": {
    "collapsed": false,
    "scrolled": true
   },
   "outputs": [
    {
     "data": {
      "text/plain": [
       "200"
      ]
     },
     "execution_count": 29,
     "metadata": {},
     "output_type": "execute_result"
    }
   ],
   "source": [
    "r.status_code"
   ]
  },
  {
   "cell_type": "code",
   "execution_count": 30,
   "metadata": {
    "collapsed": true
   },
   "outputs": [],
   "source": [
    "r = requests.get('http://httpbin.org/status/404')"
   ]
  },
  {
   "cell_type": "code",
   "execution_count": 31,
   "metadata": {
    "collapsed": false
   },
   "outputs": [
    {
     "data": {
      "text/plain": [
       "404"
      ]
     },
     "execution_count": 31,
     "metadata": {},
     "output_type": "execute_result"
    }
   ],
   "source": [
    "r.status_code"
   ]
  },
  {
   "cell_type": "code",
   "execution_count": 32,
   "metadata": {
    "collapsed": false
   },
   "outputs": [
    {
     "data": {
      "text/plain": [
       "{'Content-Length': '0', 'Server': 'nginx', 'Connection': 'keep-alive', 'Access-Control-Allow-Credentials': 'true', 'Date': 'Wed, 12 Oct 2016 08:39:13 GMT', 'Access-Control-Allow-Origin': '*', 'Content-Type': 'text/html; charset=utf-8'}"
      ]
     },
     "execution_count": 32,
     "metadata": {},
     "output_type": "execute_result"
    }
   ],
   "source": [
    "r.headers"
   ]
  },
  {
   "cell_type": "code",
   "execution_count": 33,
   "metadata": {
    "collapsed": false
   },
   "outputs": [
    {
     "data": {
      "text/plain": [
       "u'http://httpbin.org/status/404'"
      ]
     },
     "execution_count": 33,
     "metadata": {},
     "output_type": "execute_result"
    }
   ],
   "source": [
    "r.url"
   ]
  },
  {
   "cell_type": "code",
   "execution_count": 35,
   "metadata": {
    "collapsed": false
   },
   "outputs": [
    {
     "name": "stdout",
     "output_type": "stream",
     "text": [
      "{\n",
      "  \"args\": {}, \n",
      "  \"headers\": {\n",
      "    \"Accept\": \"*/*\", \n",
      "    \"Host\": \"httpbin.org\", \n",
      "    \"User-Agent\": \"curl/7.49.0\"\n",
      "  }, \n",
      "  \"origin\": \"203.237.172.100\", \n",
      "  \"url\": \"http://httpbin.org/get\"\n",
      "}\n"
     ]
    },
    {
     "name": "stderr",
     "output_type": "stream",
     "text": [
      "  % Total    % Received % Xferd  Average Speed   Time    Time     Time  Current\n",
      "                                 Dload  Upload   Total   Spent    Left  Speed\n",
      "\n",
      "  0     0    0     0    0     0      0      0 --:--:-- --:--:-- --:--:--     0\n",
      "100   188  100   188    0     0    293      0 --:--:-- --:--:-- --:--:--   293\n"
     ]
    }
   ],
   "source": [
    "!curl http://httpbin.org/get"
   ]
  },
  {
   "cell_type": "markdown",
   "metadata": {},
   "source": [
    "### 한글"
   ]
  },
  {
   "cell_type": "code",
   "execution_count": 37,
   "metadata": {
    "collapsed": false
   },
   "outputs": [],
   "source": [
    "r = requests.get(\"http://httpbin.org/encoding/utf8\")"
   ]
  },
  {
   "cell_type": "code",
   "execution_count": 43,
   "metadata": {
    "collapsed": false
   },
   "outputs": [],
   "source": [
    "teststr = r.text[:500]"
   ]
  },
  {
   "cell_type": "code",
   "execution_count": 44,
   "metadata": {
    "collapsed": false
   },
   "outputs": [
    {
     "name": "stdout",
     "output_type": "stream",
     "text": [
      "<h1>Unicode Demo</h1>\n",
      "\n",
      "<p>Taken from <a\n",
      "href=\"http://www.cl.cam.ac.uk/~mgk25/ucs/examples/UTF-8-demo.txt\">http://www.cl.cam.ac.uk/~mgk25/ucs/examples/UTF-8-demo.txt</a></p>\n",
      "\n",
      "<pre>\n",
      "\n",
      "UTF-8 encoded sample plain-text file\n",
      "‾‾‾‾‾‾‾‾‾‾‾‾‾‾‾‾‾‾‾‾‾‾‾‾‾‾‾‾‾‾‾‾‾‾‾‾\n",
      "\n",
      "Markus Kuhn [ˈmaʳkʊs kuːn] <http://www.cl.cam.ac.uk/~mgk25/> — 2002-07-25\n",
      "\n",
      "\n",
      "The ASCII compatible UTF-8 encoding used in this plain-text file\n",
      "is defined in Unicode, ISO 10646-1, and RFC 2279.\n",
      "\n",
      "\n",
      "Using Unicode/UTF-8, you can write in emails and so\n"
     ]
    }
   ],
   "source": [
    "print teststr"
   ]
  },
  {
   "cell_type": "code",
   "execution_count": 40,
   "metadata": {
    "collapsed": false
   },
   "outputs": [
    {
     "name": "stdout",
     "output_type": "stream",
     "text": [
      "\\u203e\n"
     ]
    }
   ],
   "source": [
    "print '\\u203e'"
   ]
  },
  {
   "cell_type": "code",
   "execution_count": 41,
   "metadata": {
    "collapsed": true
   },
   "outputs": [],
   "source": [
    "import locale"
   ]
  },
  {
   "cell_type": "code",
   "execution_count": 42,
   "metadata": {
    "collapsed": false
   },
   "outputs": [
    {
     "data": {
      "text/plain": [
       "('ko_KR', 'cp949')"
      ]
     },
     "execution_count": 42,
     "metadata": {},
     "output_type": "execute_result"
    }
   ],
   "source": [
    "locale.getdefaultlocale()"
   ]
  }
 ],
 "metadata": {
  "anaconda-cloud": {},
  "kernelspec": {
   "display_name": "Python [Root]",
   "language": "python",
   "name": "Python [Root]"
  },
  "language_info": {
   "codemirror_mode": {
    "name": "ipython",
    "version": 2
   },
   "file_extension": ".py",
   "mimetype": "text/x-python",
   "name": "python",
   "nbconvert_exporter": "python",
   "pygments_lexer": "ipython2",
   "version": "2.7.12"
  }
 },
 "nbformat": 4,
 "nbformat_minor": 0
}
