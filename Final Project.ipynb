{
 "cells": [
  {
   "cell_type": "markdown",
   "metadata": {},
   "source": [
    "### 키값 받아오기"
   ]
  },
  {
   "cell_type": "code",
   "execution_count": 1,
   "metadata": {
    "collapsed": false
   },
   "outputs": [
    {
     "name": "stdout",
     "output_type": "stream",
     "text": [
      "C:\\Users\\JUNYONG\\Documents\\ProjectRoot\\src\\key.properties\n"
     ]
    }
   ],
   "source": [
    "import os\n",
    "keyPath=os.path.join(os.getcwd(),'src','key.properties')\n",
    "print keyPath"
   ]
  },
  {
   "cell_type": "code",
   "execution_count": 2,
   "metadata": {
    "collapsed": false
   },
   "outputs": [
    {
     "name": "stdout",
     "output_type": "stream",
     "text": [
      "['dataseoul=666568534139327035364559544c4c\\n', 'gokr=luw%2FZLs92vz56SQtTakvSTQCzzfI7JDuIdRv4TV6X8jzONzHMGhbfMxDp%2BDTbzUB%2FQiY7zYdX%2BKEyc%2FaX4YyMg%3D%3D\\n']\n"
     ]
    }
   ],
   "source": [
    "f=open(keyPath,'r')\n",
    "lines=f.readlines()\n",
    "print lines"
   ]
  },
  {
   "cell_type": "code",
   "execution_count": 3,
   "metadata": {
    "collapsed": false
   },
   "outputs": [
    {
     "name": "stdout",
     "output_type": "stream",
     "text": [
      "{'dataseoul': '666568534139327035364559544c4c', 'gokr': 'luw%2FZLs92vz56SQtTakvSTQCzzfI7JDuIdRv4TV6X8jzONzHMGhbfMxDp%2BDTbzUB%2FQiY7zYdX%2BKEyc%2FaX4YyMg%3D%3D'}\n"
     ]
    }
   ],
   "source": [
    "d=dict()\n",
    "for line in lines:\n",
    "    row=line.split('=')\n",
    "    d[row[0]]=row[1].strip()\n",
    "print d"
   ]
  },
  {
   "cell_type": "code",
   "execution_count": 4,
   "metadata": {
    "collapsed": true
   },
   "outputs": [],
   "source": [
    "def getKey(keyPath):\n",
    "    d=dict()\n",
    "    f=open(keyPath,'r')\n",
    "    for line in lines:\n",
    "        row=line.split('=')\n",
    "        d[row[0]]=row[1].strip()\n",
    "    return d"
   ]
  },
  {
   "cell_type": "code",
   "execution_count": 5,
   "metadata": {
    "collapsed": true
   },
   "outputs": [],
   "source": [
    "keyPath=os.path.join(os.getcwd(),'src','key.properties')\n",
    "\n",
    "key=getKey(keyPath)"
   ]
  },
  {
   "cell_type": "code",
   "execution_count": 6,
   "metadata": {
    "collapsed": false
   },
   "outputs": [
    {
     "data": {
      "text/plain": [
       "'luw%2FZLs92vz56SQtTakvSTQCzzfI7JDuIdRv4TV6X8jzONzHMGhbfMxDp%2BDTbzUB%2FQiY7zYdX%2BKEyc%2FaX4YyMg%3D%3D'"
      ]
     },
     "execution_count": 6,
     "metadata": {},
     "output_type": "execute_result"
    }
   ],
   "source": [
    "key['gokr']"
   ]
  },
  {
   "cell_type": "markdown",
   "metadata": {},
   "source": [
    "## 공공데이터 연탄소비\n",
    "\n",
    "* OpenAPI 활용가이드에 서비스 목록을 들어가서 서비스명을 찾아낸다. 서비스ID는 아님\n",
    "* 그 서비스에 따른 오퍼레이션 목록에서 오퍼레이션명을 찾아낸다."
   ]
  },
  {
   "cell_type": "markdown",
   "metadata": {},
   "source": [
    "* 무연탄 생산현황에 대한 open api 자료"
   ]
  },
  {
   "cell_type": "code",
   "execution_count": 7,
   "metadata": {
    "collapsed": false
   },
   "outputs": [
    {
     "name": "stdout",
     "output_type": "stream",
     "text": [
      "production/procList\n"
     ]
    }
   ],
   "source": [
    "SERVICE='production'\n",
    "OPERATION_NAME='procList'\n",
    "#param1=os.path.join(SERVICE, OPERATION_NAME)\n",
    "param1=SERVICE+'/'+OPERATION_NAME\n",
    "print param1"
   ]
  },
  {
   "cell_type": "markdown",
   "metadata": {},
   "source": [
    "* 국내 연탄소비 현황 open api 자료"
   ]
  },
  {
   "cell_type": "code",
   "execution_count": 8,
   "metadata": {
    "collapsed": false
   },
   "outputs": [
    {
     "name": "stdout",
     "output_type": "stream",
     "text": [
      "consumption/csList\n"
     ]
    }
   ],
   "source": [
    "SERVICE='consumption'\n",
    "OPERATION_NAME='csList'\n",
    "#param1=os.path.join(SERVICE, OPERATION_NAME)\n",
    "param1=SERVICE+'/'+OPERATION_NAME\n",
    "print param1"
   ]
  },
  {
   "cell_type": "markdown",
   "metadata": {},
   "source": [
    "* 무연탄 수급 현황 open api 자료"
   ]
  },
  {
   "cell_type": "code",
   "execution_count": 61,
   "metadata": {
    "collapsed": false
   },
   "outputs": [
    {
     "name": "stdout",
     "output_type": "stream",
     "text": [
      "supplyndemand/sndList\n"
     ]
    }
   ],
   "source": [
    "SERVICE='supplyndemand'\n",
    "OPERATION_NAME='sndList'\n",
    "#param1=os.path.join(SERVICE, OPERATION_NAME)\n",
    "param1=SERVICE+'/'+OPERATION_NAME\n",
    "print param1"
   ]
  },
  {
   "cell_type": "markdown",
   "metadata": {},
   "source": [
    "* 국내 탄광 현황 open api 자료"
   ]
  },
  {
   "cell_type": "code",
   "execution_count": 9,
   "metadata": {
    "collapsed": false
   },
   "outputs": [
    {
     "name": "stdout",
     "output_type": "stream",
     "text": [
      "numOfRows=100000000&pageNo=1\n"
     ]
    }
   ],
   "source": [
    "import urllib\n",
    "d=dict()\n",
    "d['pageNo']='1'\n",
    "d['numOfRows']='100000000'\n",
    "param2=urllib.urlencode(d)\n",
    "print param2"
   ]
  },
  {
   "cell_type": "code",
   "execution_count": 10,
   "metadata": {
    "collapsed": false
   },
   "outputs": [
    {
     "name": "stdout",
     "output_type": "stream",
     "text": [
      "consumption/csList?ServiceKey=luw%2FZLs92vz56SQtTakvSTQCzzfI7JDuIdRv4TV6X8jzONzHMGhbfMxDp%2BDTbzUB%2FQiY7zYdX%2BKEyc%2FaX4YyMg%3D%3D&numOfRows=100000000&pageNo=1\n"
     ]
    }
   ],
   "source": [
    "params=param1+'?'+'ServiceKey='+key['gokr']+'&'+param2\n",
    "print params"
   ]
  },
  {
   "cell_type": "code",
   "execution_count": 11,
   "metadata": {
    "collapsed": false,
    "scrolled": true
   },
   "outputs": [
    {
     "name": "stdout",
     "output_type": "stream",
     "text": [
      "https://www.kocoal.or.kr/openapi-data/service/consumption/csList?ServiceKey=luw%2FZLs92vz56SQtTakvSTQCzzfI7JDuIdRv4TV6X8jzONzHMGhbfMxDp%2BDTbzUB%2FQiY7zYdX%2BKEyc%2FaX4YyMg%3D%3D&numOfRows=100000000&pageNo=1\n"
     ]
    }
   ],
   "source": [
    "import urlparse\n",
    "url='https://www.kocoal.or.kr/openapi-data/service/'\n",
    "myurl=urlparse.urljoin(url,params)\n",
    "print myurl"
   ]
  },
  {
   "cell_type": "markdown",
   "metadata": {},
   "source": [
    "## Twitter로 연탄에 대한 데이터 가져오기"
   ]
  },
  {
   "cell_type": "code",
   "execution_count": 1,
   "metadata": {
    "collapsed": false
   },
   "outputs": [
    {
     "name": "stdout",
     "output_type": "stream",
     "text": [
      "C:\\Users\\JUNYONG\\Documents\\ProjectRoot\\src\\twitter4j.properties\n"
     ]
    }
   ],
   "source": [
    "import os\n",
    "keyPath=os.path.join(os.getcwd(),'src','twitter4j.properties')\n",
    "print keyPath"
   ]
  },
  {
   "cell_type": "code",
   "execution_count": 2,
   "metadata": {
    "collapsed": false
   },
   "outputs": [
    {
     "name": "stdout",
     "output_type": "stream",
     "text": [
      "['CONSUMERKEY=gwrvqhOmYa1fjRGZSKLESBTb3\\n', 'CONSUMERSECRET=79JuPCIHeTiBT15vMkudeIehcclNJnTdkVBBzDLXuRyBHfJa3b\\n', 'ACCESSTOKEN=784949607843233792-315FVLqty0WSELU4oApHwz0EKEc6DqG\\n', 'ACCESSTOKENSECRET=nmw3GUVrLMgcpBIhOqZ5k9roaTEodGGUIBP55AqSc1Juo']\n"
     ]
    }
   ],
   "source": [
    "f=open(keyPath,'r')\n",
    "lines=f.readlines()\n",
    "print lines"
   ]
  },
  {
   "cell_type": "code",
   "execution_count": 3,
   "metadata": {
    "collapsed": false
   },
   "outputs": [
    {
     "name": "stdout",
     "output_type": "stream",
     "text": [
      "{'CONSUMERKEY': 'gwrvqhOmYa1fjRGZSKLESBTb3', 'ACCESSTOKENSECRET': 'nmw3GUVrLMgcpBIhOqZ5k9roaTEodGGUIBP55AqSc1Juo', 'ACCESSTOKEN': '784949607843233792-315FVLqty0WSELU4oApHwz0EKEc6DqG', 'CONSUMERSECRET': '79JuPCIHeTiBT15vMkudeIehcclNJnTdkVBBzDLXuRyBHfJa3b'}\n"
     ]
    }
   ],
   "source": [
    "d=dict()\n",
    "for line in lines:\n",
    "    row=line.split('=')\n",
    "    d[row[0]]=row[1].strip()\n",
    "print d"
   ]
  },
  {
   "cell_type": "code",
   "execution_count": 4,
   "metadata": {
    "collapsed": true
   },
   "outputs": [],
   "source": [
    "def getKey(keyPath):\n",
    "    d=dict()\n",
    "    f=open(keyPath,'r')\n",
    "    for line in lines:\n",
    "        row=line.split('=')\n",
    "        d[row[0]]=row[1].strip()\n",
    "    return d"
   ]
  },
  {
   "cell_type": "code",
   "execution_count": 5,
   "metadata": {
    "collapsed": false
   },
   "outputs": [],
   "source": [
    "keyPath=os.path.join(os.getcwd(),'src','twitter4j.properties')\n",
    "key=getKey(keyPath)"
   ]
  },
  {
   "cell_type": "markdown",
   "metadata": {},
   "source": [
    "* Twitter 라이브러리"
   ]
  },
  {
   "cell_type": "code",
   "execution_count": 6,
   "metadata": {
    "collapsed": false
   },
   "outputs": [
    {
     "name": "stdout",
     "output_type": "stream",
     "text": [
      "<twitter.api.Twitter object at 0x0000000003E7C588>\n"
     ]
    }
   ],
   "source": [
    "import twitter\n",
    "\n",
    "auth = twitter.oauth.OAuth(key['ACCESSTOKEN'],key['ACCESSTOKENSECRET'],\n",
    "                            key['CONSUMERKEY'], key['CONSUMERSECRET'])\n",
    "_client = twitter.Twitter(auth=auth)\n",
    "print _client"
   ]
  },
  {
   "cell_type": "code",
   "execution_count": 14,
   "metadata": {
    "collapsed": true
   },
   "outputs": [],
   "source": [
    "q = '#나눔연탄'\n",
    "count = 20\n",
    "max_id = '803734833885085696'\n",
    "# since_id = '795328763802198017' \n",
    "# 트위터 글을 눌렀을때 뜨는 뒤에 번호가 max_id이다.\n",
    "# See https://dev.twitter.com/docs/api/1.1/get/search/tweets \n",
    "search_results = _client.search.tweets(q=q, count=count)\n",
    "statuses = search_results['statuses']\n",
    "import json\n",
    "\n",
    "f=open('ds_kocoal_3.txt','w')\n",
    "for i,tweet in enumerate(statuses):\n",
    "    print i,tweet['id'],tweet['text']\n",
    "    j=json.dumps([i,tweet['id'],tweet['text']])\n",
    "    f.write(j)\n",
    "f.close()"
   ]
  },
  {
   "cell_type": "code",
   "execution_count": 15,
   "metadata": {
    "collapsed": false
   },
   "outputs": [
    {
     "name": "stdout",
     "output_type": "stream",
     "text": [
      "20\n",
      "<type 'list'>\n"
     ]
    }
   ],
   "source": [
    "print len(statuses)\n",
    "print type(statuses)"
   ]
  },
  {
   "cell_type": "markdown",
   "metadata": {},
   "source": [
    "* 하루에 일정량의 데이터를 가져오는 작업을 하였다"
   ]
  },
  {
   "cell_type": "code",
   "execution_count": 16,
   "metadata": {
    "collapsed": false
   },
   "outputs": [
    {
     "name": "stdout",
     "output_type": "stream",
     "text": [
      "0 807257725843304448 RT @EduYonhap: 전남담양고, 독거노인 찾아 사랑의 연탄기부 봉사 https://t.co/koV16AKNUg #독거노인 #연탄\n",
      "1 807257244609826820 전남담양고, 독거노인 찾아 사랑의 연탄기부 봉사 https://t.co/koV16AKNUg #독거노인 #연탄\n",
      "2 806819584124686336 #22구공탄 \n",
      "간만에 찾은 #연탄구이\n",
      "추억속으로 여행을 하는듯\n",
      "잘 먹었다.\n",
      "#춘천여행 #춘천맛집 #연탄구이 #삼겹살 #연탄\n",
      "#강원여행 #강원맛집 https://t.co/388tlB1DVh\n",
      "3 806478300285530112 연탄으로 만든 캔들인데 불이잘안붙을거라고 하시면서 주셨다ㅋㅋㅋㅋㅋㅋㅋ #연탄 #사랑의연탄나눔운동 감사합니다😆 https://t.co/tBs30QwUzJ\n",
      "4 806463979887280130 RT @EduYonhap: 인천송천고, 사랑의 연탄 나눔 봉사활동 실시 https://t.co/ZLiZeAoZQh #송천고 #학생기자 #연탄\n",
      "5 806073522443284481 [#인천 신천지 자원봉사단] #사랑의 온정 담아 #김장 및 #연탄 나눔 봉사 https://t.co/LTVVwPkhTl\n",
      "6 806008114801577984 인천송천고, 사랑의 연탄 나눔 봉사활동 실시 https://t.co/ZLiZeAoZQh #송천고 #학생기자 #연탄\n",
      "7 805697649991004160 겨울철 #난방기구 사용 시 일산화탄소 중독을 주의하세요 \n",
      "\n",
      "#일산화탄소 중독은 #연탄 땔떼나 있었던 \n",
      "얘기같지만 그렇지가 않습니다\n",
      " 생활속에서 사고를 예방하세요!\n",
      "\n",
      "#따뜻하게 #안전하게! https://t.co/4J6bGLWxkW\n",
      "8 805664560829136896 연탄왔다 전해라~\n",
      "\n",
      "추운 겨울 무사히\n",
      "보내실 수 있게\n",
      "사랑을 나눠드립니다😍\n",
      "\n",
      "#레삐 #구레이쓰이온 #repit #createion #레삐유 #repitu \n",
      "#연탄봉사 #사랑나눔 #훈훈한연말 #나눔 #연탄은행 #연탄\n",
      "9 805656569924849664 RT @people_sd: #연탄 한 장의 무게는? 3.6kg\n",
      "사람의 체온 36도에서 영감을 얻은 따뜻한 기업철학을 담았다고 하는데요.\n",
      "#성동구 #바르게살기운동 회원들이 지금, 연탄보일러로 겨울을 나는 이웃에 사랑을 나르고 있습니다.\n",
      "춥지만, 마음만…\n",
      "10 805647364178313217 #연탄 한 장의 무게는? 3.6kg\n",
      "사람의 체온 36도에서 영감을 얻은 따뜻한 기업철학을 담았다고 하는데요.\n",
      "#성동구 #바르게살기운동 회원들이 지금, 연탄보일러로 겨울을 나는 이웃에 사랑을 나르고 있습니다.… https://t.co/heyGWXWPSs\n",
      "11 805585506427731968 [상주상무 X 상주적십자병원]\n",
      "지난주 금요일 사랑의 연탄나눔을 실시하였습니다!\n",
      "\n",
      "추운 날씨를 따뜻하게 만들었던 현장,\n",
      "사진으로 만나보세요 :)\n",
      "☞ https://t.co/6iHdPzSP2v [사회공헌]… https://t.co/4ZE26Ivwa5\n",
      "12 805571328480641024 추운 겨울 어르신들이 따듯하게 보낼 수 있다면 😌\n",
      "#나눔더하기 #연탄 #장호원 #봉사활동 @ 이천 장호원 https://t.co/zm15yt5C8Y\n",
      "13 805292878796824576 축구를 통한 사랑 나눔... SHFC 나눔 봉사단 발대식 #축구 #봉사 #나눔 #연탄 박상호 기자 https://t.co/5EnQZ1agH5  https://t.co/sOCgt15qrf #오마이뉴스\n",
      "14 805284860038234112 RT @OhmyNews_Korea: 축구를 통한 사랑 나눔... SHFC 나눔 봉사단 발대식 #축구 #봉사 #나눔 #연탄 박상호 기자 https://t.co/NcQiFTIuZp\n",
      "15 805284608451362817 축구를 통한 사랑 나눔... SHFC 나눔 봉사단 발대식 #축구 #봉사 #나눔 #연탄 박상호 기자 https://t.co/NcQiFTIuZp\n",
      "16 804894370663047168 연탄 위에서 맛있게 익어 갓나온 \n",
      "연탄불고기와 소주한잔.\n",
      "#연탄 #연탄불고기 #맛집 #구월동맛집 #연탄돼지불고기 #맛스타그램 #먹스타그램 #일상 #사진 #캐논 #캐논카메라… https://t.co/IBrNiOcDBh\n",
      "17 804878191781216256 연탄 위에서 지글지글~\n",
      "#연탄 #연탄불고기 #맛집 #구월동맛집 #연탄돼지불고기 #맛스타그램 #먹스타그램 #일상 #사진 #캐논 #캐논카메라 #캐논파워샷 #캐논하이엔드카메라… https://t.co/VDWKKE03Lu\n",
      "18 804584634575007745 RT @iamkepco: #에너지취약계층 에게 #연탄 전달 해 드렸어요 #따뜻한겨울♡ 되셨으면 좋겠습니다 #사랑의연탄나눔 을 위해 #한전봉사단 이 전국곳곳을 찾아갈께요~ https://t.co/gr667MXhRG https://t.co/9MzneWO…\n",
      "19 804581401672630272 RT @iamkepco: #에너지취약계층 에게 #연탄 전달 해 드렸어요 #따뜻한겨울♡ 되셨으면 좋겠습니다 #사랑의연탄나눔 을 위해 #한전봉사단 이 전국곳곳을 찾아갈께요~ https://t.co/gr667MXhRG https://t.co/9MzneWO…\n"
     ]
    }
   ],
   "source": [
    "import json\n",
    "\n",
    "f=open('ds_kocoal_3.txt','w')\n",
    "for i,tweet in enumerate(statuses):\n",
    "    print i,tweet['id'],tweet['text']\n",
    "    j=json.dumps([i,tweet['id'],tweet['text']])\n",
    "    f.write(j)\n",
    "f.close()"
   ]
  },
  {
   "cell_type": "markdown",
   "metadata": {},
   "source": [
    "## 네이버 블로그"
   ]
  },
  {
   "cell_type": "markdown",
   "metadata": {},
   "source": [
    "* python 3.0 버전에서 가능함. import urllib.request를 2.7 버전에서는 지원하지 않음\n",
    "* anaconda 3을 설치하여 밑의 코드를 실행시켰음"
   ]
  },
  {
   "cell_type": "code",
   "execution_count": null,
   "metadata": {
    "collapsed": true
   },
   "outputs": [],
   "source": [
    "import os\n",
    "import sys\n",
    "import urllib.request\n",
    "f=open('kocal_1.txt','w')\n",
    "client_id = \"t1AO0ga_EPSzZpjR9U9B\"\n",
    "client_secret = \"nTQYgvrVHp\"\n",
    "encText = urllib.parse.quote(\"나눔연탄\")\n",
    "url = \"https://openapi.naver.com/v1/search/blog?query=\" + encText +\"&display=100&start=21\"# json 결과\n",
    "# url = \"https://openapi.naver.com/v1/search/blog.xml?query=\" + encText # xml 결과\n",
    "request = urllib.request.Request(url)\n",
    "request.add_header(\"X-Naver-Client-Id\",client_id)\n",
    "request.add_header(\"X-Naver-Client-Secret\",client_secret)\n",
    "response = urllib.request.urlopen(request)\n",
    "rescode = response.getcode()\n",
    "if(rescode==200):\n",
    "    response_body = response.read()\n",
    "    print(response_body.decode('utf-8'))\n",
    "else:\n",
    "    print(\"Error Code:\" + rescode)\n",
    "f.write(response_body.decode('utf-8'))\n",
    "f.close()"
   ]
  },
  {
   "cell_type": "markdown",
   "metadata": {},
   "source": [
    "## Spark로 예측해보기"
   ]
  },
  {
   "cell_type": "code",
   "execution_count": 1,
   "metadata": {
    "collapsed": false
   },
   "outputs": [],
   "source": [
    "import os\n",
    "import findspark\n",
    "spark_home='C:/Users/JUNYONG/Downloads/spark-1.6.0-bin-hadoop2.6'\n",
    "findspark.init(spark_home)"
   ]
  },
  {
   "cell_type": "code",
   "execution_count": 2,
   "metadata": {
    "collapsed": true
   },
   "outputs": [],
   "source": [
    "import pyspark\n",
    "conf=pyspark.SparkConf()\n",
    "conf=pyspark.SparkConf().setAppName(\"myApp\")\n",
    "sc=pyspark.SparkContext(conf=conf)"
   ]
  },
  {
   "cell_type": "code",
   "execution_count": 3,
   "metadata": {
    "collapsed": false
   },
   "outputs": [
    {
     "data": {
      "text/plain": [
       "[(u'spark.app.name', u'myApp'),\n",
       " (u'spark.rdd.compress', u'True'),\n",
       " (u'spark.serializer.objectStreamReset', u'100'),\n",
       " (u'spark.master', u'local[*]'),\n",
       " (u'spark.submit.deployMode', u'client')]"
      ]
     },
     "execution_count": 3,
     "metadata": {},
     "output_type": "execute_result"
    }
   ],
   "source": [
    "sc._conf.getAll()"
   ]
  },
  {
   "cell_type": "code",
   "execution_count": 4,
   "metadata": {
    "collapsed": true
   },
   "outputs": [],
   "source": [
    "from pyspark.sql import SQLContext\n",
    "sqlCtx = SQLContext(sc)"
   ]
  },
  {
   "cell_type": "code",
   "execution_count": 7,
   "metadata": {
    "collapsed": true
   },
   "outputs": [],
   "source": [
    "df = sqlCtx.createDataFrame(\n",
    "    [\n",
    "        ['2008','4231','2773','10','43','7057','2289','1960','11','4260','164','607','2026','1419','2797','323.342','293.469','412.916','50.626','29.985','42.528','38.11','55.989','127.152','268.88','340.842','305.053','2288.892'],\n",
    "        ['2009','2797','2519','190','29','5535','1941','1360','8','3309','93','537','1596','430','2226','249.303','191.966','180.118','100.626','54.824','47.206','26.459','44.808','156.725','321.714','299.268','267.727','1940.744'],\n",
    "        ['2010','2226','2084','170','71','4551','1859','839','0','2698','66','497','1308','288','1853','234.641','167.639','159.969','125.798','63.758','46.254','42.982','61.512','113.88','300.624','311.184','230.551','1858.792'],\n",
    "        ['2011','1853','2094','100','48','4085','1822','543','0','2365','64','514','1142','166','1720','254.689','143.102','151.664','84.454','51.582','33.439','18.993','44.476','162.341','314.056','280.424','279.194','1821.414'],\n",
    "        ['2012','1720','1786','192','46','4052','1833','591','0','2424','77','471','1080','125','1628','205.683','193.951','139.051','78.859','36.509','29.128','16.733','29.896','121.811','316.668','374.121','290.507','1832.917'],\n",
    "        ['2013','1628','1815','265','11','3697','1917','323','0','2240','98','435','924','156','1457','268.641','170.729','120.289','91.872','46.027','26.879','46.855','50.805','140.759','310.519','362.863','281.183','1917.421'],\n",
    "        ['2014','1457','1748','249','35','3489','1629','250','0','1879','111','600','899','25','1610','201.723','142.351','103.125','54.664','34.995','21.917','17.644','36.146','135.793','263.303','318.678','298.553','1628.892'],\n",
    "        ['2015','1610','1764','134','24','3532','1473','245','0','1718','268','631','899','0','1798','197.418','138.425','108.971','58.09','25.151','20.94','14.562','27.343','101.853','251.009','275.119','254.183','1473.064'],\n",
    "    ],\n",
    "    ['year','partA1','partA2','partA3','partA4','partASum','partB1','partB2','partB3','partBSum','partC1','partC2','partC3','partC4','partCSum','month1','month2','month3','month4','month5','month6','month7','month8','month9','month10','month11','month12','monthSum']\n",
    ")"
   ]
  },
  {
   "cell_type": "code",
   "execution_count": 8,
   "metadata": {
    "collapsed": false
   },
   "outputs": [
    {
     "name": "stdout",
     "output_type": "stream",
     "text": [
      "root\n",
      " |-- year: string (nullable = true)\n",
      " |-- partA1: string (nullable = true)\n",
      " |-- partA2: string (nullable = true)\n",
      " |-- partA3: string (nullable = true)\n",
      " |-- partA4: string (nullable = true)\n",
      " |-- partASum: string (nullable = true)\n",
      " |-- partB1: string (nullable = true)\n",
      " |-- partB2: string (nullable = true)\n",
      " |-- partB3: string (nullable = true)\n",
      " |-- partBSum: string (nullable = true)\n",
      " |-- partC1: string (nullable = true)\n",
      " |-- partC2: string (nullable = true)\n",
      " |-- partC3: string (nullable = true)\n",
      " |-- partC4: string (nullable = true)\n",
      " |-- partCSum: string (nullable = true)\n",
      " |-- month1: string (nullable = true)\n",
      " |-- month2: string (nullable = true)\n",
      " |-- month3: string (nullable = true)\n",
      " |-- month4: string (nullable = true)\n",
      " |-- month5: string (nullable = true)\n",
      " |-- month6: string (nullable = true)\n",
      " |-- month7: string (nullable = true)\n",
      " |-- month8: string (nullable = true)\n",
      " |-- month9: string (nullable = true)\n",
      " |-- month10: string (nullable = true)\n",
      " |-- month11: string (nullable = true)\n",
      " |-- month12: string (nullable = true)\n",
      " |-- monthSum: string (nullable = true)\n",
      "\n"
     ]
    }
   ],
   "source": [
    "df.printSchema()"
   ]
  },
  {
   "cell_type": "code",
   "execution_count": 9,
   "metadata": {
    "collapsed": true
   },
   "outputs": [],
   "source": [
    "from pyspark.ml.feature import StringIndexer\n",
    "labelIndexer = StringIndexer(inputCol=\"year\", outputCol=\"label\")\n",
    "model=labelIndexer.fit(df)"
   ]
  },
  {
   "cell_type": "code",
   "execution_count": 14,
   "metadata": {
    "collapsed": false
   },
   "outputs": [],
   "source": [
    "df1=model.transform(df)"
   ]
  },
  {
   "cell_type": "markdown",
   "metadata": {},
   "source": [
    "* 연탄데이터 정제 spark로 machine learning 하기위해"
   ]
  },
  {
   "cell_type": "code",
   "execution_count": 41,
   "metadata": {
    "collapsed": true
   },
   "outputs": [],
   "source": [
    "df = sqlCtx.createDataFrame(\n",
    "    [\n",
    "        ['2008','2773','10','2289','2026','1419','323.342','293.469','305.053'],\n",
    "        ['2009','2519','190','1941','1596','430','249.303','191.966','267.727'],\n",
    "        ['2010','2084','170','1859','1308','288','234.641','167.639','230.551'],\n",
    "        ['2011','2094','100','1822','1142','166','254.689','143.102','279.194'],\n",
    "        ['2012','1786','192','1833','1080','125','205.683','193.951','290.507'],\n",
    "        ['2013','1815','265','1917','924','156','268.641','170.729','281.183'],\n",
    "        ['2014','1748','249','1629','899','25','201.723','142.351','298.553'],\n",
    "        ['2015','1764','134','1473','899','0','197.418','138.425','254.183'],\n",
    "    ],\n",
    "    ['year','partA2','partA3','partB1','partC3','partC4','month1','month2','month12']\n",
    ")"
   ]
  },
  {
   "cell_type": "code",
   "execution_count": 42,
   "metadata": {
    "collapsed": false
   },
   "outputs": [
    {
     "name": "stdout",
     "output_type": "stream",
     "text": [
      "root\n",
      " |-- year: string (nullable = true)\n",
      " |-- partA2: string (nullable = true)\n",
      " |-- partA3: string (nullable = true)\n",
      " |-- partB1: string (nullable = true)\n",
      " |-- partC3: string (nullable = true)\n",
      " |-- partC4: string (nullable = true)\n",
      " |-- month1: string (nullable = true)\n",
      " |-- month2: string (nullable = true)\n",
      " |-- month12: string (nullable = true)\n",
      "\n"
     ]
    }
   ],
   "source": [
    "df.printSchema()"
   ]
  },
  {
   "cell_type": "code",
   "execution_count": 43,
   "metadata": {
    "collapsed": true
   },
   "outputs": [],
   "source": [
    "from pyspark.ml.feature import StringIndexer\n",
    "labelIndexer = StringIndexer(inputCol=\"partB1\", outputCol=\"label\")\n",
    "model=labelIndexer.fit(df)"
   ]
  },
  {
   "cell_type": "code",
   "execution_count": 44,
   "metadata": {
    "collapsed": false,
    "scrolled": true
   },
   "outputs": [
    {
     "name": "stdout",
     "output_type": "stream",
     "text": [
      "root\n",
      " |-- year: string (nullable = true)\n",
      " |-- partA2: string (nullable = true)\n",
      " |-- partA3: string (nullable = true)\n",
      " |-- partB1: string (nullable = true)\n",
      " |-- partC3: string (nullable = true)\n",
      " |-- partC4: string (nullable = true)\n",
      " |-- month1: string (nullable = true)\n",
      " |-- month2: string (nullable = true)\n",
      " |-- month12: string (nullable = true)\n",
      " |-- label: double (nullable = true)\n",
      "\n"
     ]
    }
   ],
   "source": [
    "df1=model.transform(df)\n",
    "df1.printSchema()"
   ]
  },
  {
   "cell_type": "code",
   "execution_count": 45,
   "metadata": {
    "collapsed": false
   },
   "outputs": [
    {
     "name": "stdout",
     "output_type": "stream",
     "text": [
      "+----+------+------+------+------+------+-------+-------+-------+-----+\n",
      "|year|partA2|partA3|partB1|partC3|partC4| month1| month2|month12|label|\n",
      "+----+------+------+------+------+------+-------+-------+-------+-----+\n",
      "|2008|  2773|    10|  2289|  2026|  1419|323.342|293.469|305.053|  3.0|\n",
      "|2009|  2519|   190|  1941|  1596|   430|249.303|191.966|267.727|  4.0|\n",
      "|2010|  2084|   170|  1859|  1308|   288|234.641|167.639|230.551|  1.0|\n",
      "|2011|  2094|   100|  1822|  1142|   166|254.689|143.102|279.194|  6.0|\n",
      "|2012|  1786|   192|  1833|  1080|   125|205.683|193.951|290.507|  5.0|\n",
      "|2013|  1815|   265|  1917|   924|   156|268.641|170.729|281.183|  0.0|\n",
      "|2014|  1748|   249|  1629|   899|    25|201.723|142.351|298.553|  7.0|\n",
      "|2015|  1764|   134|  1473|   899|     0|197.418|138.425|254.183|  2.0|\n",
      "+----+------+------+------+------+------+-------+-------+-------+-----+\n",
      "\n"
     ]
    }
   ],
   "source": [
    "df1.show()"
   ]
  },
  {
   "cell_type": "code",
   "execution_count": 46,
   "metadata": {
    "collapsed": true
   },
   "outputs": [],
   "source": [
    "labelIndexer1 = StringIndexer(inputCol=\"partA2\", outputCol=\"att1\")\n",
    "model=labelIndexer1.fit(df1)\n",
    "df2=model.transform(df1)"
   ]
  },
  {
   "cell_type": "code",
   "execution_count": 47,
   "metadata": {
    "collapsed": true
   },
   "outputs": [],
   "source": [
    "labelIndexer2 = StringIndexer(inputCol=\"month1\", outputCol=\"att2\")\n",
    "model=labelIndexer2.fit(df2)\n",
    "df3=model.transform(df2)"
   ]
  },
  {
   "cell_type": "code",
   "execution_count": 48,
   "metadata": {
    "collapsed": true
   },
   "outputs": [],
   "source": [
    "labelIndexer3 = StringIndexer(inputCol=\"month2\", outputCol=\"att3\")\n",
    "model=labelIndexer3.fit(df3)\n",
    "df4=model.transform(df3)"
   ]
  },
  {
   "cell_type": "code",
   "execution_count": 49,
   "metadata": {
    "collapsed": false
   },
   "outputs": [],
   "source": [
    "labelIndexer4 = StringIndexer(inputCol=\"month12\", outputCol=\"att4\")\n",
    "model=labelIndexer4.fit(df4)\n",
    "df5=model.transform(df4)"
   ]
  },
  {
   "cell_type": "code",
   "execution_count": 50,
   "metadata": {
    "collapsed": false
   },
   "outputs": [
    {
     "name": "stdout",
     "output_type": "stream",
     "text": [
      "root\n",
      " |-- year: string (nullable = true)\n",
      " |-- partA2: string (nullable = true)\n",
      " |-- partA3: string (nullable = true)\n",
      " |-- partB1: string (nullable = true)\n",
      " |-- partC3: string (nullable = true)\n",
      " |-- partC4: string (nullable = true)\n",
      " |-- month1: string (nullable = true)\n",
      " |-- month2: string (nullable = true)\n",
      " |-- month12: string (nullable = true)\n",
      " |-- label: double (nullable = true)\n",
      " |-- att1: double (nullable = true)\n",
      " |-- att2: double (nullable = true)\n",
      " |-- att3: double (nullable = true)\n",
      " |-- att4: double (nullable = true)\n",
      "\n"
     ]
    }
   ],
   "source": [
    "df5.printSchema()"
   ]
  },
  {
   "cell_type": "code",
   "execution_count": 51,
   "metadata": {
    "collapsed": false
   },
   "outputs": [
    {
     "name": "stdout",
     "output_type": "stream",
     "text": [
      "+----+------+------+------+------+------+-------+-------+-------+-----+----+----+----+----+\n",
      "|year|partA2|partA3|partB1|partC3|partC4| month1| month2|month12|label|att1|att2|att3|att4|\n",
      "+----+------+------+------+------+------+-------+-------+-------+-----+----+----+----+----+\n",
      "|2008|  2773|    10|  2289|  2026|  1419|323.342|293.469|305.053|  3.0| 3.0| 5.0| 0.0| 5.0|\n",
      "|2009|  2519|   190|  1941|  1596|   430|249.303|191.966|267.727|  4.0| 5.0| 0.0| 6.0| 3.0|\n",
      "|2010|  2084|   170|  1859|  1308|   288|234.641|167.639|230.551|  1.0| 7.0| 3.0| 2.0| 6.0|\n",
      "|2011|  2094|   100|  1822|  1142|   166|254.689|143.102|279.194|  6.0| 4.0| 2.0| 4.0| 7.0|\n",
      "|2012|  1786|   192|  1833|  1080|   125|205.683|193.951|290.507|  5.0| 0.0| 4.0| 3.0| 4.0|\n",
      "|2013|  1815|   265|  1917|   924|   156|268.641|170.729|281.183|  0.0| 2.0| 6.0| 1.0| 0.0|\n",
      "|2014|  1748|   249|  1629|   899|    25|201.723|142.351|298.553|  7.0| 1.0| 7.0| 5.0| 1.0|\n",
      "|2015|  1764|   134|  1473|   899|     0|197.418|138.425|254.183|  2.0| 6.0| 1.0| 7.0| 2.0|\n",
      "+----+------+------+------+------+------+-------+-------+-------+-----+----+----+----+----+\n",
      "\n"
     ]
    }
   ],
   "source": [
    "df5.show()"
   ]
  },
  {
   "cell_type": "code",
   "execution_count": 52,
   "metadata": {
    "collapsed": true
   },
   "outputs": [],
   "source": [
    "from pyspark.mllib.linalg import Vectors\n",
    "from pyspark.ml.feature import VectorAssembler\n",
    "\n",
    "va = VectorAssembler(inputCols=[\"att1\",\"att2\",\"att3\",\"att4\"],outputCol=\"features\")\n",
    "df6 = va.transform(df5)"
   ]
  },
  {
   "cell_type": "code",
   "execution_count": 53,
   "metadata": {
    "collapsed": false
   },
   "outputs": [
    {
     "name": "stdout",
     "output_type": "stream",
     "text": [
      "root\n",
      " |-- year: string (nullable = true)\n",
      " |-- partA2: string (nullable = true)\n",
      " |-- partA3: string (nullable = true)\n",
      " |-- partB1: string (nullable = true)\n",
      " |-- partC3: string (nullable = true)\n",
      " |-- partC4: string (nullable = true)\n",
      " |-- month1: string (nullable = true)\n",
      " |-- month2: string (nullable = true)\n",
      " |-- month12: string (nullable = true)\n",
      " |-- label: double (nullable = true)\n",
      " |-- att1: double (nullable = true)\n",
      " |-- att2: double (nullable = true)\n",
      " |-- att3: double (nullable = true)\n",
      " |-- att4: double (nullable = true)\n",
      " |-- features: vector (nullable = true)\n",
      "\n"
     ]
    }
   ],
   "source": [
    "df6.printSchema()"
   ]
  },
  {
   "cell_type": "code",
   "execution_count": 54,
   "metadata": {
    "collapsed": false
   },
   "outputs": [
    {
     "name": "stdout",
     "output_type": "stream",
     "text": [
      "root\n",
      " |-- label: double (nullable = true)\n",
      " |-- features: vector (nullable = true)\n",
      "\n"
     ]
    }
   ],
   "source": [
    "trainDf=df6.select('label','features')\n",
    "trainDf.printSchema()"
   ]
  },
  {
   "cell_type": "code",
   "execution_count": 55,
   "metadata": {
    "collapsed": false
   },
   "outputs": [
    {
     "name": "stdout",
     "output_type": "stream",
     "text": [
      "+-----+-----------------+\n",
      "|label|         features|\n",
      "+-----+-----------------+\n",
      "|  3.0|[3.0,5.0,0.0,5.0]|\n",
      "|  4.0|[5.0,0.0,6.0,3.0]|\n",
      "|  1.0|[7.0,3.0,2.0,6.0]|\n",
      "|  6.0|[4.0,2.0,4.0,7.0]|\n",
      "|  5.0|[0.0,4.0,3.0,4.0]|\n",
      "|  0.0|[2.0,6.0,1.0,0.0]|\n",
      "|  7.0|[1.0,7.0,5.0,1.0]|\n",
      "|  2.0|[6.0,1.0,7.0,2.0]|\n",
      "+-----+-----------------+\n",
      "\n"
     ]
    }
   ],
   "source": [
    "trainDf.show()"
   ]
  },
  {
   "cell_type": "code",
   "execution_count": 56,
   "metadata": {
    "collapsed": true
   },
   "outputs": [],
   "source": [
    "from pyspark import SparkContext, SQLContext\n",
    "from pyspark.ml import Pipeline\n",
    "from pyspark.ml.classification import DecisionTreeClassifier\n",
    "from pyspark.ml.feature import StringIndexer, VectorIndexer\n",
    "from pyspark.ml.evaluation import MulticlassClassificationEvaluator\n",
    "from pyspark.ml.classification import DecisionTreeClassifier"
   ]
  },
  {
   "cell_type": "code",
   "execution_count": 57,
   "metadata": {
    "collapsed": true
   },
   "outputs": [],
   "source": [
    "dt = DecisionTreeClassifier(labelCol=\"label\", featuresCol=\"features\")\n",
    "pipeline = Pipeline(stages=[labelIndexer,labelIndexer1,labelIndexer2,labelIndexer3,labelIndexer4,va,dt])\n",
    "model = pipeline.fit(df)\n",
    "predictions = model.transform(df)"
   ]
  },
  {
   "cell_type": "code",
   "execution_count": 58,
   "metadata": {
    "collapsed": false
   },
   "outputs": [
    {
     "name": "stdout",
     "output_type": "stream",
     "text": [
      "+----------+-----+-----------------+\n",
      "|prediction|label|         features|\n",
      "+----------+-----+-----------------+\n",
      "|       3.0|  3.0|[3.0,5.0,0.0,5.0]|\n",
      "|       4.0|  4.0|[5.0,0.0,6.0,3.0]|\n",
      "|       1.0|  1.0|[7.0,3.0,2.0,6.0]|\n",
      "|       6.0|  6.0|[4.0,2.0,4.0,7.0]|\n",
      "|       5.0|  5.0|[0.0,4.0,3.0,4.0]|\n",
      "|       0.0|  0.0|[2.0,6.0,1.0,0.0]|\n",
      "|       7.0|  7.0|[1.0,7.0,5.0,1.0]|\n",
      "|       2.0|  2.0|[6.0,1.0,7.0,2.0]|\n",
      "+----------+-----+-----------------+\n",
      "\n"
     ]
    }
   ],
   "source": [
    "predictions.select(\"prediction\", \"label\", \"features\").show()"
   ]
  }
 ],
 "metadata": {
  "anaconda-cloud": {},
  "kernelspec": {
   "display_name": "Python [Root]",
   "language": "python",
   "name": "Python [Root]"
  },
  "language_info": {
   "codemirror_mode": {
    "name": "ipython",
    "version": 2
   },
   "file_extension": ".py",
   "mimetype": "text/x-python",
   "name": "python",
   "nbconvert_exporter": "python",
   "pygments_lexer": "ipython2",
   "version": "2.7.12"
  }
 },
 "nbformat": 4,
 "nbformat_minor": 0
}
